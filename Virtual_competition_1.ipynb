{
  "cells": [
    {
      "cell_type": "markdown",
      "metadata": {
        "id": "Hmt5hLSnFuQ-"
      },
      "source": [
        "Consider the following Python dictionary `data` and Python list `labels`:\n",
        "\n",
        "``` python\n",
        "data = {'animal': ['cat', 'cat', 'snake', 'dog', 'dog', 'cat', 'snake', 'cat', 'dog', 'dog'],\n",
        "        'age': [2.5, 3, 0.5, np.nan, 5, 2, 4.5, np.nan, 7, 3],\n",
        "        'visits': [1, 3, 2, 3, 2, 3, 1, 1, 2, 1],\n",
        "        'priority': ['yes', 'yes', 'no', 'yes', 'no', 'no', 'no', 'yes', 'no', 'no']}\n",
        "\n",
        "labels = ['a', 'b', 'c', 'd', 'e', 'f', 'g', 'h', 'i', 'j']\n",
        "```\n",
        "\n",
        "**1.** Create a DataFrame `df` from this dictionary `data` which has the index `labels`."
      ]
    },
    {
      "cell_type": "code",
      "execution_count": 1,
      "metadata": {
        "colab": {
          "base_uri": "https://localhost:8080/"
        },
        "id": "i-2HoeEiFuQ_",
        "outputId": "1b83e0ec-d961-4609-c6e0-d109e1b0e925"
      },
      "outputs": [
        {
          "output_type": "stream",
          "name": "stdout",
          "text": [
            "  animal  age  visits priority\n",
            "a    cat  2.5       1      yes\n",
            "b    cat  3.0       3      yes\n",
            "c  snake  0.5       2       no\n",
            "d    dog  NaN       3      yes\n",
            "e    dog  5.0       2       no\n",
            "f    cat  2.0       3       no\n",
            "g  snake  4.5       1       no\n",
            "h    cat  NaN       1      yes\n",
            "i    dog  7.0       2       no\n",
            "j    dog  3.0       1       no\n"
          ]
        }
      ],
      "source": [
        "import pandas as pd\n",
        "import numpy as np\n",
        "\n",
        "data = {'animal': ['cat', 'cat', 'snake', 'dog', 'dog', 'cat', 'snake', 'cat', 'dog', 'dog'],\n",
        "        'age': [2.5, 3, 0.5, np.nan, 5, 2, 4.5, np.nan, 7, 3],\n",
        "        'visits': [1, 3, 2, 3, 2, 3, 1, 1, 2, 1],\n",
        "        'priority': ['yes', 'yes', 'no', 'yes', 'no', 'no', 'no', 'yes', 'no', 'no']}\n",
        "\n",
        "labels = ['a', 'b', 'c', 'd', 'e', 'f', 'g', 'h', 'i', 'j']\n",
        "\n",
        "\n",
        "df = pd.DataFrame(data, index=labels)\n",
        "\n",
        "\n",
        "print(df)\n"
      ]
    },
    {
      "cell_type": "markdown",
      "metadata": {
        "id": "IpKnDID_FuRB"
      },
      "source": [
        "**2.** Display a summary of the basic information about this DataFrame and its data (*hint: there is a single method that can be called on the DataFrame*)."
      ]
    },
    {
      "cell_type": "code",
      "execution_count": 3,
      "metadata": {
        "id": "gcovPS3rFuRC",
        "colab": {
          "base_uri": "https://localhost:8080/"
        },
        "outputId": "d394ef04-880e-4db6-fb01-d405ee6968a4"
      },
      "outputs": [
        {
          "output_type": "stream",
          "name": "stdout",
          "text": [
            "<class 'pandas.core.frame.DataFrame'>\n",
            "Index: 10 entries, a to j\n",
            "Data columns (total 4 columns):\n",
            " #   Column    Non-Null Count  Dtype  \n",
            "---  ------    --------------  -----  \n",
            " 0   animal    10 non-null     object \n",
            " 1   age       8 non-null      float64\n",
            " 2   visits    10 non-null     int64  \n",
            " 3   priority  10 non-null     object \n",
            "dtypes: float64(1), int64(1), object(2)\n",
            "memory usage: 400.0+ bytes\n"
          ]
        }
      ],
      "source": [
        "df = pd.DataFrame(data, index=labels)\n",
        "df.info()"
      ]
    },
    {
      "cell_type": "markdown",
      "metadata": {
        "id": "ab1u4T55FuRC"
      },
      "source": [
        "**3.** Return the first 3 rows of the DataFrame `df`."
      ]
    },
    {
      "cell_type": "code",
      "execution_count": 5,
      "metadata": {
        "id": "uIcy04PCFuRD",
        "colab": {
          "base_uri": "https://localhost:8080/"
        },
        "outputId": "b8a2f2bb-d978-4d8b-e9dd-916d11794e4f"
      },
      "outputs": [
        {
          "output_type": "stream",
          "name": "stdout",
          "text": [
            "  animal  age  visits priority\n",
            "a    cat  2.5       1      yes\n",
            "b    cat  3.0       3      yes\n",
            "c  snake  0.5       2       no\n"
          ]
        }
      ],
      "source": [
        "\n",
        "first_3_rows = df.head(3)\n",
        "\n",
        "\n",
        "print(first_3_rows)\n"
      ]
    },
    {
      "cell_type": "markdown",
      "metadata": {
        "id": "Insh_QRrFuRD"
      },
      "source": [
        "**4.** Display the 'animal' and 'age' columns from the DataFrame `df`"
      ]
    },
    {
      "cell_type": "code",
      "execution_count": 6,
      "metadata": {
        "id": "pJ-PHmJ5FuRE",
        "colab": {
          "base_uri": "https://localhost:8080/"
        },
        "outputId": "6ea5b8de-c455-4801-8619-3ccb3df1d639"
      },
      "outputs": [
        {
          "output_type": "stream",
          "name": "stdout",
          "text": [
            "  animal  age\n",
            "a    cat  2.5\n",
            "b    cat  3.0\n",
            "c  snake  0.5\n",
            "d    dog  NaN\n",
            "e    dog  5.0\n",
            "f    cat  2.0\n",
            "g  snake  4.5\n",
            "h    cat  NaN\n",
            "i    dog  7.0\n",
            "j    dog  3.0\n"
          ]
        }
      ],
      "source": [
        "\n",
        "selected_columns = df[['animal', 'age']]\n",
        "print(selected_columns)\n"
      ]
    },
    {
      "cell_type": "markdown",
      "metadata": {
        "id": "xRORUgdwFuRE"
      },
      "source": [
        "**5.** Display the data in rows `[3, 4, 8]` *and* in columns `['animal', 'age']'"
      ]
    },
    {
      "cell_type": "code",
      "execution_count": 8,
      "metadata": {
        "id": "8Yx-a5yyFuRF",
        "colab": {
          "base_uri": "https://localhost:8080/"
        },
        "outputId": "52890fa2-f4b7-479b-8676-5dc358222825"
      },
      "outputs": [
        {
          "output_type": "stream",
          "name": "stdout",
          "text": [
            "  animal  age\n",
            "d    dog  NaN\n",
            "e    dog  5.0\n",
            "i    dog  7.0\n"
          ]
        }
      ],
      "source": [
        "\n",
        "selected_data = df.loc[['d', 'e', 'i'], ['animal', 'age']]\n",
        "print(selected_data)\n"
      ]
    },
    {
      "cell_type": "markdown",
      "metadata": {
        "id": "EwxrthzwFuRF"
      },
      "source": [
        "**6.** Select only the rows where the number of visits is greater than 3."
      ]
    },
    {
      "cell_type": "code",
      "execution_count": 9,
      "metadata": {
        "id": "J8tm9hpcFuRF",
        "colab": {
          "base_uri": "https://localhost:8080/"
        },
        "outputId": "656edc36-125e-4c65-9b1d-561db049c38c"
      },
      "outputs": [
        {
          "output_type": "stream",
          "name": "stdout",
          "text": [
            "Empty DataFrame\n",
            "Columns: [animal, age, visits, priority]\n",
            "Index: []\n"
          ]
        }
      ],
      "source": [
        "\n",
        "selected_rows = df[df['visits'] > 3]\n",
        "print(selected_rows)\n"
      ]
    },
    {
      "cell_type": "markdown",
      "metadata": {
        "id": "2XhJNfmKFuRF"
      },
      "source": [
        "**7.** Select the rows where the age is missing, i.e. it is `NaN`."
      ]
    },
    {
      "cell_type": "code",
      "execution_count": 10,
      "metadata": {
        "id": "0D0NW1Y-FuRG",
        "colab": {
          "base_uri": "https://localhost:8080/"
        },
        "outputId": "13e48060-8df3-4e4a-9ae5-da23c538812c"
      },
      "outputs": [
        {
          "output_type": "stream",
          "name": "stdout",
          "text": [
            "  animal  age  visits priority\n",
            "d    dog  NaN       3      yes\n",
            "h    cat  NaN       1      yes\n"
          ]
        }
      ],
      "source": [
        "\n",
        "missing_age_rows = df[df['age'].isna()]\n",
        "print(missing_age_rows)\n"
      ]
    },
    {
      "cell_type": "markdown",
      "metadata": {
        "id": "mjT1t30pFuRG"
      },
      "source": [
        "**8.** Select the rows where the animal is a cat *and* the age is less than 3."
      ]
    },
    {
      "cell_type": "code",
      "execution_count": 11,
      "metadata": {
        "id": "llayTxaVFuRG",
        "colab": {
          "base_uri": "https://localhost:8080/"
        },
        "outputId": "afa25b1c-a05f-47dc-d88c-1dfc7ee3a2c4"
      },
      "outputs": [
        {
          "output_type": "stream",
          "name": "stdout",
          "text": [
            "  animal  age  visits priority\n",
            "a    cat  2.5       1      yes\n",
            "f    cat  2.0       3       no\n"
          ]
        }
      ],
      "source": [
        "# Select rows where the animal is a cat and the age is less than 3\n",
        "selected_rows = df[(df['animal'] == 'cat') & (df['age'] < 3)]\n",
        "print(selected_rows)\n"
      ]
    },
    {
      "cell_type": "markdown",
      "metadata": {
        "id": "TpFIIG6YFuRG"
      },
      "source": [
        "**9.** Select the rows where the age is between 2 and 4 (inclusive)"
      ]
    },
    {
      "cell_type": "code",
      "execution_count": 12,
      "metadata": {
        "id": "DSg6DgMSFuRH",
        "colab": {
          "base_uri": "https://localhost:8080/"
        },
        "outputId": "00aded6e-85b6-42ff-fbbd-f3ad4bb4736f"
      },
      "outputs": [
        {
          "output_type": "stream",
          "name": "stdout",
          "text": [
            "  animal  age  visits priority\n",
            "a    cat  2.5       1      yes\n",
            "f    cat  2.0       3       no\n"
          ]
        }
      ],
      "source": [
        "# Select rows where the animal is a cat and the age is less than 3\n",
        "selected_rows = df[(df['animal'] == 'cat') & (df['age'] < 3)]\n",
        "print(selected_rows)\n"
      ]
    },
    {
      "cell_type": "markdown",
      "metadata": {
        "id": "hpRQ38reFuRH"
      },
      "source": [
        "**10.** Change the age in row 'f' to 1.5."
      ]
    },
    {
      "cell_type": "code",
      "execution_count": 13,
      "metadata": {
        "id": "_YMVhJ8vFuRH",
        "colab": {
          "base_uri": "https://localhost:8080/"
        },
        "outputId": "c9973560-2ee0-4f9a-ae44-5d83b7667d89"
      },
      "outputs": [
        {
          "output_type": "stream",
          "name": "stdout",
          "text": [
            "  animal  age  visits priority\n",
            "a    cat  2.5       1      yes\n",
            "b    cat  3.0       3      yes\n",
            "c  snake  0.5       2       no\n",
            "d    dog  NaN       3      yes\n",
            "e    dog  5.0       2       no\n",
            "f    cat  1.5       3       no\n",
            "g  snake  4.5       1       no\n",
            "h    cat  NaN       1      yes\n",
            "i    dog  7.0       2       no\n",
            "j    dog  3.0       1       no\n"
          ]
        }
      ],
      "source": [
        "# Change the age in row 'f' to 1.5\n",
        "df.loc['f', 'age'] = 1.5\n",
        "\n",
        "# Display the updated DataFrame\n",
        "print(df)\n"
      ]
    },
    {
      "cell_type": "markdown",
      "metadata": {
        "id": "hBWRarrFFuRH"
      },
      "source": [
        "**11.** Calculate the sum of all visits in `df` (i.e. the total number of visits)."
      ]
    },
    {
      "cell_type": "code",
      "execution_count": 14,
      "metadata": {
        "id": "f68JlP6vFuRH",
        "colab": {
          "base_uri": "https://localhost:8080/"
        },
        "outputId": "1757e58a-4319-412d-a980-798322634f11"
      },
      "outputs": [
        {
          "output_type": "stream",
          "name": "stdout",
          "text": [
            "Total number of visits: 19\n"
          ]
        }
      ],
      "source": [
        "\n",
        "total_visits = df['visits'].sum()\n",
        "\n",
        "# Display the result\n",
        "print(\"Total number of visits:\", total_visits)\n"
      ]
    },
    {
      "cell_type": "markdown",
      "metadata": {
        "id": "pS3mMupIFuRH"
      },
      "source": [
        "**12.** Calculate the mean age for each different animal in `df`."
      ]
    },
    {
      "cell_type": "code",
      "execution_count": 15,
      "metadata": {
        "id": "DssyUV8LFuRI",
        "colab": {
          "base_uri": "https://localhost:8080/"
        },
        "outputId": "5db472ef-0924-4801-fd4e-b8a0dc7fd990"
      },
      "outputs": [
        {
          "output_type": "stream",
          "name": "stdout",
          "text": [
            "animal\n",
            "cat      2.333333\n",
            "dog      5.000000\n",
            "snake    2.500000\n",
            "Name: age, dtype: float64\n"
          ]
        }
      ],
      "source": [
        "# Calculate the mean age for each different animal\n",
        "mean_age_by_animal = df.groupby('animal')['age'].mean()\n",
        "\n",
        "# Display the result\n",
        "print(mean_age_by_animal)\n"
      ]
    },
    {
      "cell_type": "markdown",
      "metadata": {
        "id": "GMR-Ace2FuRI"
      },
      "source": [
        "**13.** Append a new row 'k' to `df` with your choice of values for each column. Then delete that row to return the original DataFrame."
      ]
    },
    {
      "cell_type": "code",
      "execution_count": 24,
      "metadata": {
        "id": "P8Qfy0a8FuRI",
        "colab": {
          "base_uri": "https://localhost:8080/"
        },
        "outputId": "5c388e34-9a69-437c-c3cd-355ad7649e16"
      },
      "outputs": [
        {
          "output_type": "stream",
          "name": "stdout",
          "text": [
            "DataFrame with the new row 'k':\n",
            "                   fl_date unique_carrier  airline_id tail_num  fl_num origin  \\\n",
            "0      2014-01-01 00:00:00             AA     19805.0   N338AA     1.0    JFK   \n",
            "1      2014-01-01 00:00:00             AA     19805.0   N335AA     3.0    JFK   \n",
            "2      2014-01-01 00:00:00             AA     19805.0   N327AA    21.0    JFK   \n",
            "3      2014-01-01 00:00:00             AA     19805.0   N3EHAA    29.0    LGA   \n",
            "4      2014-01-01 00:00:00             AA     19805.0   N319AA   117.0    JFK   \n",
            "...                    ...            ...         ...      ...     ...    ...   \n",
            "20813  2014-01-31 00:00:00             UA     19977.0   N77525  1429.0    LGA   \n",
            "20814  2014-01-31 00:00:00             UA     19977.0   N37293  1456.0    LGA   \n",
            "20815  2014-01-31 00:00:00             UA     19977.0   N24729  1457.0    LGA   \n",
            "20816  2014-01-31 00:00:00             MQ     20398.0   N609MQ  3699.0    BUF   \n",
            "k                      NaN            NaN         NaN      NaN     NaN    NaN   \n",
            "\n",
            "      dest  dep_time  dep_delay  arr_time  arr_delay  cancelled  \\\n",
            "0      LAX     914.0       14.0    1238.0       13.0        0.0   \n",
            "1      LAX    1157.0       -3.0    1523.0       13.0        0.0   \n",
            "2      LAX    1902.0        2.0    2224.0        9.0        0.0   \n",
            "3      PBI     722.0       -8.0    1014.0      -26.0        0.0   \n",
            "4      LAX    1347.0        2.0    1706.0        1.0        0.0   \n",
            "...    ...       ...        ...       ...        ...        ...   \n",
            "20813  CLE    1522.0      -10.0    1649.0      -31.0        0.0   \n",
            "20814  IAH     719.0       -6.0    1006.0      -20.0        0.0   \n",
            "20815  IAH     852.0        7.0    1156.0       -6.0        0.0   \n",
            "20816  ORD    1208.0      -12.0    1251.0      -19.0        0.0   \n",
            "k      NaN       NaN        NaN       NaN        NaN        NaN   \n",
            "\n",
            "                       arr                  dep animal  age  visits priority  \n",
            "0      2014-01-01 12:38:00  2014-01-01 09:14:00    NaN  NaN     NaN      NaN  \n",
            "1      2014-01-01 15:23:00  2014-01-01 11:57:00    NaN  NaN     NaN      NaN  \n",
            "2      2014-01-01 22:24:00  2014-01-01 19:02:00    NaN  NaN     NaN      NaN  \n",
            "3      2014-01-01 10:14:00  2014-01-01 07:22:00    NaN  NaN     NaN      NaN  \n",
            "4      2014-01-01 17:06:00  2014-01-01 13:47:00    NaN  NaN     NaN      NaN  \n",
            "...                    ...                  ...    ...  ...     ...      ...  \n",
            "20813  2014-01-31 16:49:00  2014-01-31 15:22:00    NaN  NaN     NaN      NaN  \n",
            "20814  2014-01-31 10:06:00  2014-01-31 07:19:00    NaN  NaN     NaN      NaN  \n",
            "20815  2014-01-31 11:56:00  2014-01-31 08:52:00    NaN  NaN     NaN      NaN  \n",
            "20816  2014-01-31 12:51:00  2014-01-31 12:08:00    NaN  NaN     NaN      NaN  \n",
            "k                      NaN                  NaN   bird  1.0     2.0      yes  \n",
            "\n",
            "[20818 rows x 18 columns]\n",
            "\n",
            "Original DataFrame after deleting row 'k':\n",
            "                   fl_date unique_carrier  airline_id tail_num  fl_num origin  \\\n",
            "0      2014-01-01 00:00:00             AA     19805.0   N338AA     1.0    JFK   \n",
            "1      2014-01-01 00:00:00             AA     19805.0   N335AA     3.0    JFK   \n",
            "2      2014-01-01 00:00:00             AA     19805.0   N327AA    21.0    JFK   \n",
            "3      2014-01-01 00:00:00             AA     19805.0   N3EHAA    29.0    LGA   \n",
            "4      2014-01-01 00:00:00             AA     19805.0   N319AA   117.0    JFK   \n",
            "...                    ...            ...         ...      ...     ...    ...   \n",
            "20812  2014-01-31 00:00:00             UA     19977.0   N54711  1253.0    ROC   \n",
            "20813  2014-01-31 00:00:00             UA     19977.0   N77525  1429.0    LGA   \n",
            "20814  2014-01-31 00:00:00             UA     19977.0   N37293  1456.0    LGA   \n",
            "20815  2014-01-31 00:00:00             UA     19977.0   N24729  1457.0    LGA   \n",
            "20816  2014-01-31 00:00:00             MQ     20398.0   N609MQ  3699.0    BUF   \n",
            "\n",
            "      dest  dep_time  dep_delay  arr_time  arr_delay  cancelled  \\\n",
            "0      LAX     914.0       14.0    1238.0       13.0        0.0   \n",
            "1      LAX    1157.0       -3.0    1523.0       13.0        0.0   \n",
            "2      LAX    1902.0        2.0    2224.0        9.0        0.0   \n",
            "3      PBI     722.0       -8.0    1014.0      -26.0        0.0   \n",
            "4      LAX    1347.0        2.0    1706.0        1.0        0.0   \n",
            "...    ...       ...        ...       ...        ...        ...   \n",
            "20812  ORD     801.0       -4.0     908.0        4.0        0.0   \n",
            "20813  CLE    1522.0      -10.0    1649.0      -31.0        0.0   \n",
            "20814  IAH     719.0       -6.0    1006.0      -20.0        0.0   \n",
            "20815  IAH     852.0        7.0    1156.0       -6.0        0.0   \n",
            "20816  ORD    1208.0      -12.0    1251.0      -19.0        0.0   \n",
            "\n",
            "                       arr                  dep animal  age  visits priority  \n",
            "0      2014-01-01 12:38:00  2014-01-01 09:14:00    NaN  NaN     NaN      NaN  \n",
            "1      2014-01-01 15:23:00  2014-01-01 11:57:00    NaN  NaN     NaN      NaN  \n",
            "2      2014-01-01 22:24:00  2014-01-01 19:02:00    NaN  NaN     NaN      NaN  \n",
            "3      2014-01-01 10:14:00  2014-01-01 07:22:00    NaN  NaN     NaN      NaN  \n",
            "4      2014-01-01 17:06:00  2014-01-01 13:47:00    NaN  NaN     NaN      NaN  \n",
            "...                    ...                  ...    ...  ...     ...      ...  \n",
            "20812  2014-01-31 09:08:00  2014-01-31 08:01:00    NaN  NaN     NaN      NaN  \n",
            "20813  2014-01-31 16:49:00  2014-01-31 15:22:00    NaN  NaN     NaN      NaN  \n",
            "20814  2014-01-31 10:06:00  2014-01-31 07:19:00    NaN  NaN     NaN      NaN  \n",
            "20815  2014-01-31 11:56:00  2014-01-31 08:52:00    NaN  NaN     NaN      NaN  \n",
            "20816  2014-01-31 12:51:00  2014-01-31 12:08:00    NaN  NaN     NaN      NaN  \n",
            "\n",
            "[20817 rows x 18 columns]\n"
          ]
        }
      ],
      "source": [
        "\n",
        "new_row = pd.DataFrame({'animal': ['bird'], 'age': [1.0], 'visits': [2], 'priority': ['yes']}, index=['k'])\n",
        "df = pd.concat([df, new_row])\n",
        "\n",
        "print(\"DataFrame with the new row 'k':\")\n",
        "print(df)\n",
        "\n",
        "# Delete the new row 'k' to return the original DataFrame\n",
        "df = df.drop('k')\n",
        "\n",
        "# Display the original DataFrame\n",
        "print(\"\\nOriginal DataFrame after deleting row 'k':\")\n",
        "print(df)\n"
      ]
    },
    {
      "cell_type": "markdown",
      "metadata": {
        "id": "GjMKZ4POFuRI"
      },
      "source": [
        "**14.** Count the number of each type of animal in `df`."
      ]
    },
    {
      "cell_type": "code",
      "execution_count": 17,
      "metadata": {
        "id": "1ydrxeyNFuRI",
        "colab": {
          "base_uri": "https://localhost:8080/"
        },
        "outputId": "cbd1ff80-45b9-4617-f0f1-5d334c4a00ca"
      },
      "outputs": [
        {
          "output_type": "stream",
          "name": "stdout",
          "text": [
            "cat      4\n",
            "dog      4\n",
            "snake    2\n",
            "Name: animal, dtype: int64\n"
          ]
        }
      ],
      "source": [
        "\n",
        "animal_counts = df['animal'].value_counts()\n",
        "\n",
        "\n",
        "print(animal_counts)\n"
      ]
    },
    {
      "cell_type": "markdown",
      "metadata": {
        "id": "MNBGtMjoFuRI"
      },
      "source": [
        "**15.** Sort `df` first by the values in the 'age' in *decending* order, then by the value in the 'visits' column in *ascending* order (so row `i` should be first, and row `d` should be last)."
      ]
    },
    {
      "cell_type": "code",
      "execution_count": 18,
      "metadata": {
        "id": "76tGccYfFuRJ",
        "colab": {
          "base_uri": "https://localhost:8080/"
        },
        "outputId": "d44e4662-5e64-4d62-d77f-607ca3458715"
      },
      "outputs": [
        {
          "output_type": "stream",
          "name": "stdout",
          "text": [
            "  animal  age  visits priority\n",
            "i    dog  7.0       2       no\n",
            "e    dog  5.0       2       no\n",
            "g  snake  4.5       1       no\n",
            "j    dog  3.0       1       no\n",
            "b    cat  3.0       3      yes\n",
            "a    cat  2.5       1      yes\n",
            "f    cat  1.5       3       no\n",
            "c  snake  0.5       2       no\n",
            "h    cat  NaN       1      yes\n",
            "d    dog  NaN       3      yes\n"
          ]
        }
      ],
      "source": [
        "\n",
        "sorted_df = df.sort_values(by=['age', 'visits'], ascending=[False, True])\n",
        "\n",
        "# Display the sorted DataFrame\n",
        "print(sorted_df)\n"
      ]
    },
    {
      "cell_type": "markdown",
      "metadata": {
        "id": "5VOktn8PFuRJ"
      },
      "source": [
        "**16.** The 'priority' column contains the values 'yes' and 'no'. Replace this column with a column of boolean values: 'yes' should be `True` and 'no' should be `False`."
      ]
    },
    {
      "cell_type": "code",
      "execution_count": 19,
      "metadata": {
        "id": "HUrNuHMfFuRJ",
        "colab": {
          "base_uri": "https://localhost:8080/"
        },
        "outputId": "cbf21b36-b567-4c9f-ee09-146f4ce133f5"
      },
      "outputs": [
        {
          "output_type": "stream",
          "name": "stdout",
          "text": [
            "  animal  age  visits  priority\n",
            "a    cat  2.5       1      True\n",
            "b    cat  3.0       3      True\n",
            "c  snake  0.5       2     False\n",
            "d    dog  NaN       3      True\n",
            "e    dog  5.0       2     False\n",
            "f    cat  1.5       3     False\n",
            "g  snake  4.5       1     False\n",
            "h    cat  NaN       1      True\n",
            "i    dog  7.0       2     False\n",
            "j    dog  3.0       1     False\n"
          ]
        }
      ],
      "source": [
        "\n",
        "df['priority'] = df['priority'].map({'yes': True, 'no': False})\n",
        "\n",
        "# Display the updated DataFrame\n",
        "print(df)\n"
      ]
    },
    {
      "cell_type": "markdown",
      "metadata": {
        "id": "T9MVDUniFuRJ"
      },
      "source": [
        "**17.** In the 'animal' column, change the 'snake' entries to 'python'."
      ]
    },
    {
      "cell_type": "code",
      "execution_count": 20,
      "metadata": {
        "id": "pWNj4Vl4FuRJ",
        "colab": {
          "base_uri": "https://localhost:8080/"
        },
        "outputId": "7e132fc9-40b1-4909-af45-0b12f9876510"
      },
      "outputs": [
        {
          "output_type": "stream",
          "name": "stdout",
          "text": [
            "   animal  age  visits  priority\n",
            "a     cat  2.5       1      True\n",
            "b     cat  3.0       3      True\n",
            "c  python  0.5       2     False\n",
            "d     dog  NaN       3      True\n",
            "e     dog  5.0       2     False\n",
            "f     cat  1.5       3     False\n",
            "g  python  4.5       1     False\n",
            "h     cat  NaN       1      True\n",
            "i     dog  7.0       2     False\n",
            "j     dog  3.0       1     False\n"
          ]
        }
      ],
      "source": [
        "\n",
        "df['animal'] = df['animal'].replace('snake', 'python')\n",
        "\n",
        "# Display the updated DataFrame\n",
        "print(df)\n"
      ]
    },
    {
      "cell_type": "markdown",
      "metadata": {
        "id": "_LEZn_jdXulL"
      },
      "source": [
        "**18.** Load the ny-flights dataset to Python"
      ]
    },
    {
      "cell_type": "code",
      "execution_count": 21,
      "metadata": {
        "id": "yRUlhJIxXulL"
      },
      "outputs": [],
      "source": [
        "df = pd.read_csv('ny-flights.csv')"
      ]
    },
    {
      "cell_type": "markdown",
      "metadata": {
        "id": "k_x-ABtiXulL"
      },
      "source": [
        "**19.** Which airline ID is present maximum times in the dataset"
      ]
    },
    {
      "cell_type": "code",
      "execution_count": 22,
      "metadata": {
        "colab": {
          "base_uri": "https://localhost:8080/"
        },
        "id": "0vO485suXulL",
        "outputId": "75441e40-febb-4f50-cb5a-a4ac91a55829"
      },
      "outputs": [
        {
          "output_type": "stream",
          "name": "stdout",
          "text": [
            "Airline ID present maximum times: 20409\n"
          ]
        }
      ],
      "source": [
        "\n",
        "max_airline_id = df['airline_id'].value_counts().idxmax()\n",
        "\n",
        "# Display the airline ID present maximum times\n",
        "print(\"Airline ID present maximum times:\", max_airline_id)\n"
      ]
    },
    {
      "cell_type": "markdown",
      "metadata": {
        "id": "30o8qv4XXulL"
      },
      "source": [
        "**20.** Draw a plot between dep_delay and arr_delay"
      ]
    },
    {
      "cell_type": "code",
      "execution_count": 23,
      "metadata": {
        "colab": {
          "base_uri": "https://localhost:8080/",
          "height": 564
        },
        "id": "a_HR0TXvXulP",
        "outputId": "0eb30f23-7711-470a-a08c-e875085df7f5"
      },
      "outputs": [
        {
          "output_type": "display_data",
          "data": {
            "text/plain": [
              "<Figure size 1000x600 with 1 Axes>"
            ],
            "image/png": "[encoded data removed]"
          },
          "metadata": {}
        }
      ],
      "source": [
        "import matplotlib.pyplot as plt\n",
        "\n",
        "\n",
        "dep_delay = df['dep_delay']\n",
        "arr_delay = df['arr_delay']\n",
        "\n",
        "# Create a scatter plot\n",
        "plt.figure(figsize=(10, 6))\n",
        "plt.scatter(dep_delay, arr_delay, alpha=0.5)\n",
        "plt.title('Scatter Plot between dep_delay and arr_delay')\n",
        "plt.xlabel('Departure Delay (min)')\n",
        "plt.ylabel('Arrival Delay (min)')\n",
        "plt.grid(True)\n",
        "plt.show()\n"
      ]
    }
  ],
  "metadata": {
    "colab": {
      "provenance": []
    },
    "kernelspec": {
      "display_name": "Python 3",
      "language": "python",
      "name": "python3"
    },
    "language_info": {
      "codemirror_mode": {
        "name": "ipython",
        "version": 3
      },
      "file_extension": ".py",
      "mimetype": "text/x-python",
      "name": "python",
      "nbconvert_exporter": "python",
      "pygments_lexer": "ipython3",
      "version": "3.8.8"
    }
  },
  "nbformat": 4,
  "nbformat_minor": 0
}